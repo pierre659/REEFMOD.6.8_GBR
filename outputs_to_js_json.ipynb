{
 "cells": [
  {
   "cell_type": "code",
   "execution_count": 15,
   "metadata": {
    "collapsed": true
   },
   "outputs": [],
   "source": [
    "import numpy as np\n",
    "import pandas as pd\n",
    "import json\n",
    "from pathlib import Path\n",
    "import os"
   ]
  },
  {
   "cell_type": "code",
   "execution_count": 46,
   "outputs": [],
   "source": [
    "csv_surfaces_path = 'tmp/REEFMOD.6.8_GBR/geo_DHW.csv'"
   ],
   "metadata": {
    "collapsed": false
   }
  },
  {
   "cell_type": "code",
   "execution_count": 47,
   "outputs": [],
   "source": [
    "geo_df = pd.read_csv(csv_surfaces_path)"
   ],
   "metadata": {
    "collapsed": false
   }
  },
  {
   "cell_type": "code",
   "execution_count": 48,
   "outputs": [
    {
     "data": {
      "text/plain": "      Reef_ID  Nick_ID      LAT       LON    UNIQUE_ID LABEL_ID  \\\n0           1       42 -10.7795  142.5916  10330100104   10-330   \n1           2       42 -10.7966  142.7106  10331100104   10-331   \n2           3       42 -10.8243  142.5736  10332100104   10-332   \n3           4       42 -10.8354  142.5766  10333100104   10-333   \n4           5       42 -10.8199  142.6871  10334100104   10-334   \n...       ...      ...      ...       ...          ...      ...   \n3801     3802     1266 -23.2053  151.8877  23045102104  23-045b   \n3802     3803     1271 -23.2461  151.7826  23046100104   23-046   \n3803     3804     1271 -23.2572  151.7618  23047100104   23-047   \n3804     3805     1274 -23.2695  151.9403  23048100104   23-048   \n3805     3806     1276 -23.2954  151.7703  23049100104   23-049   \n\n                    GBR_NAME                      OldReefName  \\\n0                   U/N Reef                U/N Reef (10-330)   \n1           Harrington Shoal        Harrington Shoal (10-331)   \n2                   U/N Reef                U/N Reef (10-332)   \n3                   U/N Reef                U/N Reef (10-333)   \n4        Four Fathom Patches     Four Fathom Patches (10-334)   \n...                      ...                              ...   \n3801      North Reef (South)     North Reef (South) (23-045b)   \n3802              Tryon Reef              Tryon Reef (23-046)   \n3803              Brew Shoal              Brew Shoal (23-047)   \n3804         Broomfield Reef         Broomfield Reef (23-048)   \n3805  North West Island Reef  North West Island Reef (23-049)   \n\n            AREA_DESCR  Shelf_position  AIMS_sector  Reference_Area_km2  \\\n0         Far Northern               1            1            2.149739   \n1         Far Northern               1            1            1.099287   \n2         Far Northern               1            1            0.972122   \n3         Far Northern               1            1            0.452624   \n4         Far Northern               1            1            1.675575   \n...                ...             ...          ...                 ...   \n3801  Mackay/Capricorn               3           11            0.308734   \n3802  Mackay/Capricorn               3           11            3.533203   \n3803  Mackay/Capricorn               3           11            4.270397   \n3804  Mackay/Capricorn               3           11           15.165481   \n3805  Mackay/Capricorn               3           11           88.922113   \n\n      Geom_2D_Area_km2  GeomCH_2D_Area_km2  Geom_3D_Area_km2  \\\n0             0.223079            0.214122          0.258400   \n1             0.254949            0.009859          0.336819   \n2             0.001757            0.001149          0.002000   \n3             0.000320            0.000209          0.000300   \n4             0.015122            0.009865          0.015514   \n...                ...                 ...               ...   \n3801          0.308734            0.192424          1.577302   \n3802          3.328520            2.859234         10.021177   \n3803          1.933965            0.849395          3.993430   \n3804         11.544010            8.583335         23.533580   \n3805         61.065349           38.784504         95.222500   \n\n      GeomCH_3D_Area_km2                                                DHW  \n0               0.249400  [ 0.49999999  1.98999996  4.3799999   0.919999...  \n1               0.000802  [ 0.64999999  2.02999995  3.94999991  1.139999...  \n2               0.001572  [ 0.49999999  1.96999996  4.3399999   0.929999...  \n3               0.000236  [ 0.49999999  1.96999996  4.3399999   0.929999...  \n4               0.012174  [ 0.79999998  1.99999996  4.05999991  1.129999...  \n...                  ...                                                ...  \n3801            1.104642  [0.62999999 1.17999997 5.53999988 0.         0...  \n3802            8.264400  [0.61999999 1.72999996 6.06999986 0.         0...  \n3803            1.906000  [0.63999999 1.73999996 5.83999987 0.         0...  \n3804           17.695450  [0.63999999 1.13999997 5.04999989 0.         0...  \n3805           60.388500  [0.63999999 1.73999996 5.83999987 0.         0...  \n\n[3806 rows x 17 columns]",
      "text/html": "<div>\n<style scoped>\n    .dataframe tbody tr th:only-of-type {\n        vertical-align: middle;\n    }\n\n    .dataframe tbody tr th {\n        vertical-align: top;\n    }\n\n    .dataframe thead th {\n        text-align: right;\n    }\n</style>\n<table border=\"1\" class=\"dataframe\">\n  <thead>\n    <tr style=\"text-align: right;\">\n      <th></th>\n      <th>Reef_ID</th>\n      <th>Nick_ID</th>\n      <th>LAT</th>\n      <th>LON</th>\n      <th>UNIQUE_ID</th>\n      <th>LABEL_ID</th>\n      <th>GBR_NAME</th>\n      <th>OldReefName</th>\n      <th>AREA_DESCR</th>\n      <th>Shelf_position</th>\n      <th>AIMS_sector</th>\n      <th>Reference_Area_km2</th>\n      <th>Geom_2D_Area_km2</th>\n      <th>GeomCH_2D_Area_km2</th>\n      <th>Geom_3D_Area_km2</th>\n      <th>GeomCH_3D_Area_km2</th>\n      <th>DHW</th>\n    </tr>\n  </thead>\n  <tbody>\n    <tr>\n      <th>0</th>\n      <td>1</td>\n      <td>42</td>\n      <td>-10.7795</td>\n      <td>142.5916</td>\n      <td>10330100104</td>\n      <td>10-330</td>\n      <td>U/N Reef</td>\n      <td>U/N Reef (10-330)</td>\n      <td>Far Northern</td>\n      <td>1</td>\n      <td>1</td>\n      <td>2.149739</td>\n      <td>0.223079</td>\n      <td>0.214122</td>\n      <td>0.258400</td>\n      <td>0.249400</td>\n      <td>[ 0.49999999  1.98999996  4.3799999   0.919999...</td>\n    </tr>\n    <tr>\n      <th>1</th>\n      <td>2</td>\n      <td>42</td>\n      <td>-10.7966</td>\n      <td>142.7106</td>\n      <td>10331100104</td>\n      <td>10-331</td>\n      <td>Harrington Shoal</td>\n      <td>Harrington Shoal (10-331)</td>\n      <td>Far Northern</td>\n      <td>1</td>\n      <td>1</td>\n      <td>1.099287</td>\n      <td>0.254949</td>\n      <td>0.009859</td>\n      <td>0.336819</td>\n      <td>0.000802</td>\n      <td>[ 0.64999999  2.02999995  3.94999991  1.139999...</td>\n    </tr>\n    <tr>\n      <th>2</th>\n      <td>3</td>\n      <td>42</td>\n      <td>-10.8243</td>\n      <td>142.5736</td>\n      <td>10332100104</td>\n      <td>10-332</td>\n      <td>U/N Reef</td>\n      <td>U/N Reef (10-332)</td>\n      <td>Far Northern</td>\n      <td>1</td>\n      <td>1</td>\n      <td>0.972122</td>\n      <td>0.001757</td>\n      <td>0.001149</td>\n      <td>0.002000</td>\n      <td>0.001572</td>\n      <td>[ 0.49999999  1.96999996  4.3399999   0.929999...</td>\n    </tr>\n    <tr>\n      <th>3</th>\n      <td>4</td>\n      <td>42</td>\n      <td>-10.8354</td>\n      <td>142.5766</td>\n      <td>10333100104</td>\n      <td>10-333</td>\n      <td>U/N Reef</td>\n      <td>U/N Reef (10-333)</td>\n      <td>Far Northern</td>\n      <td>1</td>\n      <td>1</td>\n      <td>0.452624</td>\n      <td>0.000320</td>\n      <td>0.000209</td>\n      <td>0.000300</td>\n      <td>0.000236</td>\n      <td>[ 0.49999999  1.96999996  4.3399999   0.929999...</td>\n    </tr>\n    <tr>\n      <th>4</th>\n      <td>5</td>\n      <td>42</td>\n      <td>-10.8199</td>\n      <td>142.6871</td>\n      <td>10334100104</td>\n      <td>10-334</td>\n      <td>Four Fathom Patches</td>\n      <td>Four Fathom Patches (10-334)</td>\n      <td>Far Northern</td>\n      <td>1</td>\n      <td>1</td>\n      <td>1.675575</td>\n      <td>0.015122</td>\n      <td>0.009865</td>\n      <td>0.015514</td>\n      <td>0.012174</td>\n      <td>[ 0.79999998  1.99999996  4.05999991  1.129999...</td>\n    </tr>\n    <tr>\n      <th>...</th>\n      <td>...</td>\n      <td>...</td>\n      <td>...</td>\n      <td>...</td>\n      <td>...</td>\n      <td>...</td>\n      <td>...</td>\n      <td>...</td>\n      <td>...</td>\n      <td>...</td>\n      <td>...</td>\n      <td>...</td>\n      <td>...</td>\n      <td>...</td>\n      <td>...</td>\n      <td>...</td>\n      <td>...</td>\n    </tr>\n    <tr>\n      <th>3801</th>\n      <td>3802</td>\n      <td>1266</td>\n      <td>-23.2053</td>\n      <td>151.8877</td>\n      <td>23045102104</td>\n      <td>23-045b</td>\n      <td>North Reef (South)</td>\n      <td>North Reef (South) (23-045b)</td>\n      <td>Mackay/Capricorn</td>\n      <td>3</td>\n      <td>11</td>\n      <td>0.308734</td>\n      <td>0.308734</td>\n      <td>0.192424</td>\n      <td>1.577302</td>\n      <td>1.104642</td>\n      <td>[0.62999999 1.17999997 5.53999988 0.         0...</td>\n    </tr>\n    <tr>\n      <th>3802</th>\n      <td>3803</td>\n      <td>1271</td>\n      <td>-23.2461</td>\n      <td>151.7826</td>\n      <td>23046100104</td>\n      <td>23-046</td>\n      <td>Tryon Reef</td>\n      <td>Tryon Reef (23-046)</td>\n      <td>Mackay/Capricorn</td>\n      <td>3</td>\n      <td>11</td>\n      <td>3.533203</td>\n      <td>3.328520</td>\n      <td>2.859234</td>\n      <td>10.021177</td>\n      <td>8.264400</td>\n      <td>[0.61999999 1.72999996 6.06999986 0.         0...</td>\n    </tr>\n    <tr>\n      <th>3803</th>\n      <td>3804</td>\n      <td>1271</td>\n      <td>-23.2572</td>\n      <td>151.7618</td>\n      <td>23047100104</td>\n      <td>23-047</td>\n      <td>Brew Shoal</td>\n      <td>Brew Shoal (23-047)</td>\n      <td>Mackay/Capricorn</td>\n      <td>3</td>\n      <td>11</td>\n      <td>4.270397</td>\n      <td>1.933965</td>\n      <td>0.849395</td>\n      <td>3.993430</td>\n      <td>1.906000</td>\n      <td>[0.63999999 1.73999996 5.83999987 0.         0...</td>\n    </tr>\n    <tr>\n      <th>3804</th>\n      <td>3805</td>\n      <td>1274</td>\n      <td>-23.2695</td>\n      <td>151.9403</td>\n      <td>23048100104</td>\n      <td>23-048</td>\n      <td>Broomfield Reef</td>\n      <td>Broomfield Reef (23-048)</td>\n      <td>Mackay/Capricorn</td>\n      <td>3</td>\n      <td>11</td>\n      <td>15.165481</td>\n      <td>11.544010</td>\n      <td>8.583335</td>\n      <td>23.533580</td>\n      <td>17.695450</td>\n      <td>[0.63999999 1.13999997 5.04999989 0.         0...</td>\n    </tr>\n    <tr>\n      <th>3805</th>\n      <td>3806</td>\n      <td>1276</td>\n      <td>-23.2954</td>\n      <td>151.7703</td>\n      <td>23049100104</td>\n      <td>23-049</td>\n      <td>North West Island Reef</td>\n      <td>North West Island Reef (23-049)</td>\n      <td>Mackay/Capricorn</td>\n      <td>3</td>\n      <td>11</td>\n      <td>88.922113</td>\n      <td>61.065349</td>\n      <td>38.784504</td>\n      <td>95.222500</td>\n      <td>60.388500</td>\n      <td>[0.63999999 1.73999996 5.83999987 0.         0...</td>\n    </tr>\n  </tbody>\n</table>\n<p>3806 rows × 17 columns</p>\n</div>"
     },
     "execution_count": 48,
     "metadata": {},
     "output_type": "execute_result"
    }
   ],
   "source": [
    "geo_df"
   ],
   "metadata": {
    "collapsed": false
   }
  },
  {
   "cell_type": "code",
   "execution_count": 49,
   "outputs": [],
   "source": [
    "geo_df = geo_df.set_index(geo_df['Reef_ID'])"
   ],
   "metadata": {
    "collapsed": false
   }
  },
  {
   "cell_type": "code",
   "execution_count": 51,
   "outputs": [],
   "source": [
    "ref_surfaces = geo_df.GeomCH_3D_Area_km2\n",
    "ref_square_sides = np.sqrt(ref_surfaces)\n",
    "ref_dist_to_walk = ref_square_sides / np.sqrt(2)\n",
    "bearings_deg = np.array([45, 135, 225, 315, 45])"
   ],
   "metadata": {
    "collapsed": false
   }
  },
  {
   "cell_type": "code",
   "execution_count": 56,
   "outputs": [],
   "source": [
    "def get_new_coordinates(lat1, lon1, distance_in_meters, bearing_degrees):\n",
    "    # Earth's radius in meters\n",
    "    R = 6371000\n",
    "    rad2deg = 180. / np.pi\n",
    "    deg2rad = 1. / rad2deg\n",
    "\n",
    "    # Convert latitude and longitude to radians\n",
    "    lat1_rad = lat1 * deg2rad\n",
    "    lon1_rad = lon1 * deg2rad\n",
    "    bearing_rad = bearing_degrees * deg2rad\n",
    "\n",
    "    # Convert distance to radians\n",
    "    dist_rad = distance_in_meters / R\n",
    "\n",
    "    # Compute latitude and longitude of destination point\n",
    "    lat2_rad = np.arcsin(np.sin(lat1_rad) * np.cos(dist_rad) +\n",
    "                         np.cos(lat1_rad) * np.sin(dist_rad) * np.cos(bearing_rad))\n",
    "\n",
    "    lon2_rad = lon1_rad + np.arctan2(np.sin(bearing_rad) * np.sin(dist_rad) * np.cos(lat1_rad),\n",
    "                                     np.cos(dist_rad) - np.sin(lat1_rad) * np.sin(lat2_rad))\n",
    "\n",
    "    # Convert latitude and longitude back to decimal degrees\n",
    "    lat2 = lat2_rad * rad2deg\n",
    "    lon2 = lon2_rad * rad2deg\n",
    "\n",
    "    return lat2, lon2"
   ],
   "metadata": {
    "collapsed": false
   }
  },
  {
   "cell_type": "code",
   "execution_count": 39,
   "outputs": [],
   "source": [
    "OUTPUT_NAME = 'dhw'\n",
    "CSV_IN_PATH = 'tmp/REEFMOD.6.8_GBR/geo_DHW.csv'\n",
    "JSON_OUT_PATH = 'geojson_dhw/dhw'\n",
    "RADII_PATH = 'reef_radii.csv'"
   ],
   "metadata": {
    "collapsed": false
   }
  },
  {
   "cell_type": "code",
   "execution_count": 41,
   "outputs": [],
   "source": [
    "outputs_df = pd.read_csv(CSV_IN_PATH, header=0)"
   ],
   "metadata": {
    "collapsed": false
   }
  },
  {
   "cell_type": "code",
   "execution_count": 42,
   "outputs": [
    {
     "data": {
      "text/plain": "   Reef_ID  Nick_ID      LAT       LON    UNIQUE_ID LABEL_ID  \\\n0        1       42 -10.7795  142.5916  10330100104   10-330   \n1        2       42 -10.7966  142.7106  10331100104   10-331   \n2        3       42 -10.8243  142.5736  10332100104   10-332   \n3        4       42 -10.8354  142.5766  10333100104   10-333   \n4        5       42 -10.8199  142.6871  10334100104   10-334   \n\n              GBR_NAME                   OldReefName    AREA_DESCR  \\\n0             U/N Reef             U/N Reef (10-330)  Far Northern   \n1     Harrington Shoal     Harrington Shoal (10-331)  Far Northern   \n2             U/N Reef             U/N Reef (10-332)  Far Northern   \n3             U/N Reef             U/N Reef (10-333)  Far Northern   \n4  Four Fathom Patches  Four Fathom Patches (10-334)  Far Northern   \n\n   Shelf_position  AIMS_sector  Reference_Area_km2  Geom_2D_Area_km2  \\\n0               1            1            2.149739          0.223079   \n1               1            1            1.099287          0.254949   \n2               1            1            0.972122          0.001757   \n3               1            1            0.452624          0.000320   \n4               1            1            1.675575          0.015122   \n\n   GeomCH_2D_Area_km2  Geom_3D_Area_km2  GeomCH_3D_Area_km2  \\\n0            0.214122          0.258400            0.249400   \n1            0.009859          0.336819            0.000802   \n2            0.001149          0.002000            0.001572   \n3            0.000209          0.000300            0.000236   \n4            0.009865          0.015514            0.012174   \n\n                                                 DHW  \n0  [ 0.49999999  1.98999996  4.3799999   0.919999...  \n1  [ 0.64999999  2.02999995  3.94999991  1.139999...  \n2  [ 0.49999999  1.96999996  4.3399999   0.929999...  \n3  [ 0.49999999  1.96999996  4.3399999   0.929999...  \n4  [ 0.79999998  1.99999996  4.05999991  1.129999...  ",
      "text/html": "<div>\n<style scoped>\n    .dataframe tbody tr th:only-of-type {\n        vertical-align: middle;\n    }\n\n    .dataframe tbody tr th {\n        vertical-align: top;\n    }\n\n    .dataframe thead th {\n        text-align: right;\n    }\n</style>\n<table border=\"1\" class=\"dataframe\">\n  <thead>\n    <tr style=\"text-align: right;\">\n      <th></th>\n      <th>Reef_ID</th>\n      <th>Nick_ID</th>\n      <th>LAT</th>\n      <th>LON</th>\n      <th>UNIQUE_ID</th>\n      <th>LABEL_ID</th>\n      <th>GBR_NAME</th>\n      <th>OldReefName</th>\n      <th>AREA_DESCR</th>\n      <th>Shelf_position</th>\n      <th>AIMS_sector</th>\n      <th>Reference_Area_km2</th>\n      <th>Geom_2D_Area_km2</th>\n      <th>GeomCH_2D_Area_km2</th>\n      <th>Geom_3D_Area_km2</th>\n      <th>GeomCH_3D_Area_km2</th>\n      <th>DHW</th>\n    </tr>\n  </thead>\n  <tbody>\n    <tr>\n      <th>0</th>\n      <td>1</td>\n      <td>42</td>\n      <td>-10.7795</td>\n      <td>142.5916</td>\n      <td>10330100104</td>\n      <td>10-330</td>\n      <td>U/N Reef</td>\n      <td>U/N Reef (10-330)</td>\n      <td>Far Northern</td>\n      <td>1</td>\n      <td>1</td>\n      <td>2.149739</td>\n      <td>0.223079</td>\n      <td>0.214122</td>\n      <td>0.258400</td>\n      <td>0.249400</td>\n      <td>[ 0.49999999  1.98999996  4.3799999   0.919999...</td>\n    </tr>\n    <tr>\n      <th>1</th>\n      <td>2</td>\n      <td>42</td>\n      <td>-10.7966</td>\n      <td>142.7106</td>\n      <td>10331100104</td>\n      <td>10-331</td>\n      <td>Harrington Shoal</td>\n      <td>Harrington Shoal (10-331)</td>\n      <td>Far Northern</td>\n      <td>1</td>\n      <td>1</td>\n      <td>1.099287</td>\n      <td>0.254949</td>\n      <td>0.009859</td>\n      <td>0.336819</td>\n      <td>0.000802</td>\n      <td>[ 0.64999999  2.02999995  3.94999991  1.139999...</td>\n    </tr>\n    <tr>\n      <th>2</th>\n      <td>3</td>\n      <td>42</td>\n      <td>-10.8243</td>\n      <td>142.5736</td>\n      <td>10332100104</td>\n      <td>10-332</td>\n      <td>U/N Reef</td>\n      <td>U/N Reef (10-332)</td>\n      <td>Far Northern</td>\n      <td>1</td>\n      <td>1</td>\n      <td>0.972122</td>\n      <td>0.001757</td>\n      <td>0.001149</td>\n      <td>0.002000</td>\n      <td>0.001572</td>\n      <td>[ 0.49999999  1.96999996  4.3399999   0.929999...</td>\n    </tr>\n    <tr>\n      <th>3</th>\n      <td>4</td>\n      <td>42</td>\n      <td>-10.8354</td>\n      <td>142.5766</td>\n      <td>10333100104</td>\n      <td>10-333</td>\n      <td>U/N Reef</td>\n      <td>U/N Reef (10-333)</td>\n      <td>Far Northern</td>\n      <td>1</td>\n      <td>1</td>\n      <td>0.452624</td>\n      <td>0.000320</td>\n      <td>0.000209</td>\n      <td>0.000300</td>\n      <td>0.000236</td>\n      <td>[ 0.49999999  1.96999996  4.3399999   0.929999...</td>\n    </tr>\n    <tr>\n      <th>4</th>\n      <td>5</td>\n      <td>42</td>\n      <td>-10.8199</td>\n      <td>142.6871</td>\n      <td>10334100104</td>\n      <td>10-334</td>\n      <td>Four Fathom Patches</td>\n      <td>Four Fathom Patches (10-334)</td>\n      <td>Far Northern</td>\n      <td>1</td>\n      <td>1</td>\n      <td>1.675575</td>\n      <td>0.015122</td>\n      <td>0.009865</td>\n      <td>0.015514</td>\n      <td>0.012174</td>\n      <td>[ 0.79999998  1.99999996  4.05999991  1.129999...</td>\n    </tr>\n  </tbody>\n</table>\n</div>"
     },
     "execution_count": 42,
     "metadata": {},
     "output_type": "execute_result"
    }
   ],
   "source": [
    "outputs_df.head()"
   ],
   "metadata": {
    "collapsed": false
   }
  },
  {
   "cell_type": "code",
   "execution_count": 37,
   "outputs": [
    {
     "ename": "ValueError",
     "evalue": "could not convert string to float: '10-330'",
     "output_type": "error",
     "traceback": [
      "\u001B[0;31m---------------------------------------------------------------------------\u001B[0m",
      "\u001B[0;31mValueError\u001B[0m                                Traceback (most recent call last)",
      "Cell \u001B[0;32mIn[37], line 1\u001B[0m\n\u001B[0;32m----> 1\u001B[0m outputs_df \u001B[38;5;241m=\u001B[39m \u001B[43moutputs_df\u001B[49m\u001B[38;5;241;43m.\u001B[39;49m\u001B[43mastype\u001B[49m\u001B[43m(\u001B[49m\u001B[38;5;28;43mfloat\u001B[39;49m\u001B[43m)\u001B[49m\n",
      "File \u001B[0;32m~/Mines/3A/Crise/venv/lib/python3.8/site-packages/pandas/core/generic.py:6240\u001B[0m, in \u001B[0;36mNDFrame.astype\u001B[0;34m(self, dtype, copy, errors)\u001B[0m\n\u001B[1;32m   6233\u001B[0m     results \u001B[38;5;241m=\u001B[39m [\n\u001B[1;32m   6234\u001B[0m         \u001B[38;5;28mself\u001B[39m\u001B[38;5;241m.\u001B[39miloc[:, i]\u001B[38;5;241m.\u001B[39mastype(dtype, copy\u001B[38;5;241m=\u001B[39mcopy)\n\u001B[1;32m   6235\u001B[0m         \u001B[38;5;28;01mfor\u001B[39;00m i \u001B[38;5;129;01min\u001B[39;00m \u001B[38;5;28mrange\u001B[39m(\u001B[38;5;28mlen\u001B[39m(\u001B[38;5;28mself\u001B[39m\u001B[38;5;241m.\u001B[39mcolumns))\n\u001B[1;32m   6236\u001B[0m     ]\n\u001B[1;32m   6238\u001B[0m \u001B[38;5;28;01melse\u001B[39;00m:\n\u001B[1;32m   6239\u001B[0m     \u001B[38;5;66;03m# else, only a single dtype is given\u001B[39;00m\n\u001B[0;32m-> 6240\u001B[0m     new_data \u001B[38;5;241m=\u001B[39m \u001B[38;5;28;43mself\u001B[39;49m\u001B[38;5;241;43m.\u001B[39;49m\u001B[43m_mgr\u001B[49m\u001B[38;5;241;43m.\u001B[39;49m\u001B[43mastype\u001B[49m\u001B[43m(\u001B[49m\u001B[43mdtype\u001B[49m\u001B[38;5;241;43m=\u001B[39;49m\u001B[43mdtype\u001B[49m\u001B[43m,\u001B[49m\u001B[43m \u001B[49m\u001B[43mcopy\u001B[49m\u001B[38;5;241;43m=\u001B[39;49m\u001B[43mcopy\u001B[49m\u001B[43m,\u001B[49m\u001B[43m \u001B[49m\u001B[43merrors\u001B[49m\u001B[38;5;241;43m=\u001B[39;49m\u001B[43merrors\u001B[49m\u001B[43m)\u001B[49m\n\u001B[1;32m   6241\u001B[0m     \u001B[38;5;28;01mreturn\u001B[39;00m \u001B[38;5;28mself\u001B[39m\u001B[38;5;241m.\u001B[39m_constructor(new_data)\u001B[38;5;241m.\u001B[39m__finalize__(\u001B[38;5;28mself\u001B[39m, method\u001B[38;5;241m=\u001B[39m\u001B[38;5;124m\"\u001B[39m\u001B[38;5;124mastype\u001B[39m\u001B[38;5;124m\"\u001B[39m)\n\u001B[1;32m   6243\u001B[0m \u001B[38;5;66;03m# GH 33113: handle empty frame or series\u001B[39;00m\n",
      "File \u001B[0;32m~/Mines/3A/Crise/venv/lib/python3.8/site-packages/pandas/core/internals/managers.py:448\u001B[0m, in \u001B[0;36mBaseBlockManager.astype\u001B[0;34m(self, dtype, copy, errors)\u001B[0m\n\u001B[1;32m    447\u001B[0m \u001B[38;5;28;01mdef\u001B[39;00m \u001B[38;5;21mastype\u001B[39m(\u001B[38;5;28mself\u001B[39m: T, dtype, copy: \u001B[38;5;28mbool\u001B[39m \u001B[38;5;241m=\u001B[39m \u001B[38;5;28;01mFalse\u001B[39;00m, errors: \u001B[38;5;28mstr\u001B[39m \u001B[38;5;241m=\u001B[39m \u001B[38;5;124m\"\u001B[39m\u001B[38;5;124mraise\u001B[39m\u001B[38;5;124m\"\u001B[39m) \u001B[38;5;241m-\u001B[39m\u001B[38;5;241m>\u001B[39m T:\n\u001B[0;32m--> 448\u001B[0m     \u001B[38;5;28;01mreturn\u001B[39;00m \u001B[38;5;28;43mself\u001B[39;49m\u001B[38;5;241;43m.\u001B[39;49m\u001B[43mapply\u001B[49m\u001B[43m(\u001B[49m\u001B[38;5;124;43m\"\u001B[39;49m\u001B[38;5;124;43mastype\u001B[39;49m\u001B[38;5;124;43m\"\u001B[39;49m\u001B[43m,\u001B[49m\u001B[43m \u001B[49m\u001B[43mdtype\u001B[49m\u001B[38;5;241;43m=\u001B[39;49m\u001B[43mdtype\u001B[49m\u001B[43m,\u001B[49m\u001B[43m \u001B[49m\u001B[43mcopy\u001B[49m\u001B[38;5;241;43m=\u001B[39;49m\u001B[43mcopy\u001B[49m\u001B[43m,\u001B[49m\u001B[43m \u001B[49m\u001B[43merrors\u001B[49m\u001B[38;5;241;43m=\u001B[39;49m\u001B[43merrors\u001B[49m\u001B[43m)\u001B[49m\n",
      "File \u001B[0;32m~/Mines/3A/Crise/venv/lib/python3.8/site-packages/pandas/core/internals/managers.py:352\u001B[0m, in \u001B[0;36mBaseBlockManager.apply\u001B[0;34m(self, f, align_keys, ignore_failures, **kwargs)\u001B[0m\n\u001B[1;32m    350\u001B[0m         applied \u001B[38;5;241m=\u001B[39m b\u001B[38;5;241m.\u001B[39mapply(f, \u001B[38;5;241m*\u001B[39m\u001B[38;5;241m*\u001B[39mkwargs)\n\u001B[1;32m    351\u001B[0m     \u001B[38;5;28;01melse\u001B[39;00m:\n\u001B[0;32m--> 352\u001B[0m         applied \u001B[38;5;241m=\u001B[39m \u001B[38;5;28;43mgetattr\u001B[39;49m\u001B[43m(\u001B[49m\u001B[43mb\u001B[49m\u001B[43m,\u001B[49m\u001B[43m \u001B[49m\u001B[43mf\u001B[49m\u001B[43m)\u001B[49m\u001B[43m(\u001B[49m\u001B[38;5;241;43m*\u001B[39;49m\u001B[38;5;241;43m*\u001B[39;49m\u001B[43mkwargs\u001B[49m\u001B[43m)\u001B[49m\n\u001B[1;32m    353\u001B[0m \u001B[38;5;28;01mexcept\u001B[39;00m (\u001B[38;5;167;01mTypeError\u001B[39;00m, \u001B[38;5;167;01mNotImplementedError\u001B[39;00m):\n\u001B[1;32m    354\u001B[0m     \u001B[38;5;28;01mif\u001B[39;00m \u001B[38;5;129;01mnot\u001B[39;00m ignore_failures:\n",
      "File \u001B[0;32m~/Mines/3A/Crise/venv/lib/python3.8/site-packages/pandas/core/internals/blocks.py:526\u001B[0m, in \u001B[0;36mBlock.astype\u001B[0;34m(self, dtype, copy, errors)\u001B[0m\n\u001B[1;32m    508\u001B[0m \u001B[38;5;250m\u001B[39m\u001B[38;5;124;03m\"\"\"\u001B[39;00m\n\u001B[1;32m    509\u001B[0m \u001B[38;5;124;03mCoerce to the new dtype.\u001B[39;00m\n\u001B[1;32m    510\u001B[0m \n\u001B[0;32m   (...)\u001B[0m\n\u001B[1;32m    522\u001B[0m \u001B[38;5;124;03mBlock\u001B[39;00m\n\u001B[1;32m    523\u001B[0m \u001B[38;5;124;03m\"\"\"\u001B[39;00m\n\u001B[1;32m    524\u001B[0m values \u001B[38;5;241m=\u001B[39m \u001B[38;5;28mself\u001B[39m\u001B[38;5;241m.\u001B[39mvalues\n\u001B[0;32m--> 526\u001B[0m new_values \u001B[38;5;241m=\u001B[39m \u001B[43mastype_array_safe\u001B[49m\u001B[43m(\u001B[49m\u001B[43mvalues\u001B[49m\u001B[43m,\u001B[49m\u001B[43m \u001B[49m\u001B[43mdtype\u001B[49m\u001B[43m,\u001B[49m\u001B[43m \u001B[49m\u001B[43mcopy\u001B[49m\u001B[38;5;241;43m=\u001B[39;49m\u001B[43mcopy\u001B[49m\u001B[43m,\u001B[49m\u001B[43m \u001B[49m\u001B[43merrors\u001B[49m\u001B[38;5;241;43m=\u001B[39;49m\u001B[43merrors\u001B[49m\u001B[43m)\u001B[49m\n\u001B[1;32m    528\u001B[0m new_values \u001B[38;5;241m=\u001B[39m maybe_coerce_values(new_values)\n\u001B[1;32m    529\u001B[0m newb \u001B[38;5;241m=\u001B[39m \u001B[38;5;28mself\u001B[39m\u001B[38;5;241m.\u001B[39mmake_block(new_values)\n",
      "File \u001B[0;32m~/Mines/3A/Crise/venv/lib/python3.8/site-packages/pandas/core/dtypes/astype.py:299\u001B[0m, in \u001B[0;36mastype_array_safe\u001B[0;34m(values, dtype, copy, errors)\u001B[0m\n\u001B[1;32m    296\u001B[0m     \u001B[38;5;28;01mreturn\u001B[39;00m values\u001B[38;5;241m.\u001B[39mcopy()\n\u001B[1;32m    298\u001B[0m \u001B[38;5;28;01mtry\u001B[39;00m:\n\u001B[0;32m--> 299\u001B[0m     new_values \u001B[38;5;241m=\u001B[39m \u001B[43mastype_array\u001B[49m\u001B[43m(\u001B[49m\u001B[43mvalues\u001B[49m\u001B[43m,\u001B[49m\u001B[43m \u001B[49m\u001B[43mdtype\u001B[49m\u001B[43m,\u001B[49m\u001B[43m \u001B[49m\u001B[43mcopy\u001B[49m\u001B[38;5;241;43m=\u001B[39;49m\u001B[43mcopy\u001B[49m\u001B[43m)\u001B[49m\n\u001B[1;32m    300\u001B[0m \u001B[38;5;28;01mexcept\u001B[39;00m (\u001B[38;5;167;01mValueError\u001B[39;00m, \u001B[38;5;167;01mTypeError\u001B[39;00m):\n\u001B[1;32m    301\u001B[0m     \u001B[38;5;66;03m# e.g. astype_nansafe can fail on object-dtype of strings\u001B[39;00m\n\u001B[1;32m    302\u001B[0m     \u001B[38;5;66;03m#  trying to convert to float\u001B[39;00m\n\u001B[1;32m    303\u001B[0m     \u001B[38;5;28;01mif\u001B[39;00m errors \u001B[38;5;241m==\u001B[39m \u001B[38;5;124m\"\u001B[39m\u001B[38;5;124mignore\u001B[39m\u001B[38;5;124m\"\u001B[39m:\n",
      "File \u001B[0;32m~/Mines/3A/Crise/venv/lib/python3.8/site-packages/pandas/core/dtypes/astype.py:230\u001B[0m, in \u001B[0;36mastype_array\u001B[0;34m(values, dtype, copy)\u001B[0m\n\u001B[1;32m    227\u001B[0m     values \u001B[38;5;241m=\u001B[39m values\u001B[38;5;241m.\u001B[39mastype(dtype, copy\u001B[38;5;241m=\u001B[39mcopy)\n\u001B[1;32m    229\u001B[0m \u001B[38;5;28;01melse\u001B[39;00m:\n\u001B[0;32m--> 230\u001B[0m     values \u001B[38;5;241m=\u001B[39m \u001B[43mastype_nansafe\u001B[49m\u001B[43m(\u001B[49m\u001B[43mvalues\u001B[49m\u001B[43m,\u001B[49m\u001B[43m \u001B[49m\u001B[43mdtype\u001B[49m\u001B[43m,\u001B[49m\u001B[43m \u001B[49m\u001B[43mcopy\u001B[49m\u001B[38;5;241;43m=\u001B[39;49m\u001B[43mcopy\u001B[49m\u001B[43m)\u001B[49m\n\u001B[1;32m    232\u001B[0m \u001B[38;5;66;03m# in pandas we don't store numpy str dtypes, so convert to object\u001B[39;00m\n\u001B[1;32m    233\u001B[0m \u001B[38;5;28;01mif\u001B[39;00m \u001B[38;5;28misinstance\u001B[39m(dtype, np\u001B[38;5;241m.\u001B[39mdtype) \u001B[38;5;129;01mand\u001B[39;00m \u001B[38;5;28missubclass\u001B[39m(values\u001B[38;5;241m.\u001B[39mdtype\u001B[38;5;241m.\u001B[39mtype, \u001B[38;5;28mstr\u001B[39m):\n",
      "File \u001B[0;32m~/Mines/3A/Crise/venv/lib/python3.8/site-packages/pandas/core/dtypes/astype.py:170\u001B[0m, in \u001B[0;36mastype_nansafe\u001B[0;34m(arr, dtype, copy, skipna)\u001B[0m\n\u001B[1;32m    166\u001B[0m     \u001B[38;5;28;01mraise\u001B[39;00m \u001B[38;5;167;01mValueError\u001B[39;00m(msg)\n\u001B[1;32m    168\u001B[0m \u001B[38;5;28;01mif\u001B[39;00m copy \u001B[38;5;129;01mor\u001B[39;00m is_object_dtype(arr\u001B[38;5;241m.\u001B[39mdtype) \u001B[38;5;129;01mor\u001B[39;00m is_object_dtype(dtype):\n\u001B[1;32m    169\u001B[0m     \u001B[38;5;66;03m# Explicit copy, or required since NumPy can't view from / to object.\u001B[39;00m\n\u001B[0;32m--> 170\u001B[0m     \u001B[38;5;28;01mreturn\u001B[39;00m \u001B[43marr\u001B[49m\u001B[38;5;241;43m.\u001B[39;49m\u001B[43mastype\u001B[49m\u001B[43m(\u001B[49m\u001B[43mdtype\u001B[49m\u001B[43m,\u001B[49m\u001B[43m \u001B[49m\u001B[43mcopy\u001B[49m\u001B[38;5;241;43m=\u001B[39;49m\u001B[38;5;28;43;01mTrue\u001B[39;49;00m\u001B[43m)\u001B[49m\n\u001B[1;32m    172\u001B[0m \u001B[38;5;28;01mreturn\u001B[39;00m arr\u001B[38;5;241m.\u001B[39mastype(dtype, copy\u001B[38;5;241m=\u001B[39mcopy)\n",
      "\u001B[0;31mValueError\u001B[0m: could not convert string to float: '10-330'"
     ]
    }
   ],
   "source": [
    "outputs_df = outputs_df.astype(float)"
   ],
   "metadata": {
    "collapsed": false
   }
  },
  {
   "cell_type": "code",
   "execution_count": 38,
   "outputs": [
    {
     "data": {
      "text/plain": "Reef_ID                 int64\nNick_ID                 int64\nLAT                   float64\nLON                   float64\nUNIQUE_ID               int64\nLABEL_ID               object\nGBR_NAME               object\nOldReefName            object\nAREA_DESCR             object\nShelf_position          int64\nAIMS_sector             int64\nReference_Area_km2    float64\nGeom_2D_Area_km2      float64\nGeomCH_2D_Area_km2    float64\nGeom_3D_Area_km2      float64\nGeomCH_3D_Area_km2    float64\ndtype: object"
     },
     "execution_count": 38,
     "metadata": {},
     "output_type": "execute_result"
    }
   ],
   "source": [
    "outputs_df.dtypes"
   ],
   "metadata": {
    "collapsed": false
   }
  },
  {
   "cell_type": "code",
   "execution_count": 43,
   "outputs": [
    {
     "ename": "KeyError",
     "evalue": "0",
     "output_type": "error",
     "traceback": [
      "\u001B[0;31m---------------------------------------------------------------------------\u001B[0m",
      "\u001B[0;31mKeyError\u001B[0m                                  Traceback (most recent call last)",
      "File \u001B[0;32m~/Mines/3A/Crise/venv/lib/python3.8/site-packages/pandas/core/indexes/base.py:3802\u001B[0m, in \u001B[0;36mIndex.get_loc\u001B[0;34m(self, key, method, tolerance)\u001B[0m\n\u001B[1;32m   3801\u001B[0m \u001B[38;5;28;01mtry\u001B[39;00m:\n\u001B[0;32m-> 3802\u001B[0m     \u001B[38;5;28;01mreturn\u001B[39;00m \u001B[38;5;28;43mself\u001B[39;49m\u001B[38;5;241;43m.\u001B[39;49m\u001B[43m_engine\u001B[49m\u001B[38;5;241;43m.\u001B[39;49m\u001B[43mget_loc\u001B[49m\u001B[43m(\u001B[49m\u001B[43mcasted_key\u001B[49m\u001B[43m)\u001B[49m\n\u001B[1;32m   3803\u001B[0m \u001B[38;5;28;01mexcept\u001B[39;00m \u001B[38;5;167;01mKeyError\u001B[39;00m \u001B[38;5;28;01mas\u001B[39;00m err:\n",
      "File \u001B[0;32m~/Mines/3A/Crise/venv/lib/python3.8/site-packages/pandas/_libs/index.pyx:138\u001B[0m, in \u001B[0;36mpandas._libs.index.IndexEngine.get_loc\u001B[0;34m()\u001B[0m\n",
      "File \u001B[0;32m~/Mines/3A/Crise/venv/lib/python3.8/site-packages/pandas/_libs/index.pyx:165\u001B[0m, in \u001B[0;36mpandas._libs.index.IndexEngine.get_loc\u001B[0;34m()\u001B[0m\n",
      "File \u001B[0;32mpandas/_libs/hashtable_class_helper.pxi:5745\u001B[0m, in \u001B[0;36mpandas._libs.hashtable.PyObjectHashTable.get_item\u001B[0;34m()\u001B[0m\n",
      "File \u001B[0;32mpandas/_libs/hashtable_class_helper.pxi:5753\u001B[0m, in \u001B[0;36mpandas._libs.hashtable.PyObjectHashTable.get_item\u001B[0;34m()\u001B[0m\n",
      "\u001B[0;31mKeyError\u001B[0m: 0",
      "\nThe above exception was the direct cause of the following exception:\n",
      "\u001B[0;31mKeyError\u001B[0m                                  Traceback (most recent call last)",
      "Cell \u001B[0;32mIn[43], line 3\u001B[0m\n\u001B[1;32m      1\u001B[0m output_meta \u001B[38;5;241m=\u001B[39m {\n\u001B[1;32m      2\u001B[0m     \u001B[38;5;124m'\u001B[39m\u001B[38;5;124mn_timesteps\u001B[39m\u001B[38;5;124m'\u001B[39m: \u001B[38;5;28mlen\u001B[39m(outputs_df\u001B[38;5;241m.\u001B[39mcolumns[:\u001B[38;5;241m-\u001B[39m\u001B[38;5;241m2\u001B[39m]),\n\u001B[0;32m----> 3\u001B[0m     \u001B[38;5;124m'\u001B[39m\u001B[38;5;124mn_reefs\u001B[39m\u001B[38;5;124m'\u001B[39m: \u001B[38;5;28mlen\u001B[39m(\u001B[43moutputs_df\u001B[49m\u001B[43m[\u001B[49m\u001B[38;5;241;43m0\u001B[39;49m\u001B[43m]\u001B[49m)\n\u001B[1;32m      4\u001B[0m }\n",
      "File \u001B[0;32m~/Mines/3A/Crise/venv/lib/python3.8/site-packages/pandas/core/frame.py:3807\u001B[0m, in \u001B[0;36mDataFrame.__getitem__\u001B[0;34m(self, key)\u001B[0m\n\u001B[1;32m   3805\u001B[0m \u001B[38;5;28;01mif\u001B[39;00m \u001B[38;5;28mself\u001B[39m\u001B[38;5;241m.\u001B[39mcolumns\u001B[38;5;241m.\u001B[39mnlevels \u001B[38;5;241m>\u001B[39m \u001B[38;5;241m1\u001B[39m:\n\u001B[1;32m   3806\u001B[0m     \u001B[38;5;28;01mreturn\u001B[39;00m \u001B[38;5;28mself\u001B[39m\u001B[38;5;241m.\u001B[39m_getitem_multilevel(key)\n\u001B[0;32m-> 3807\u001B[0m indexer \u001B[38;5;241m=\u001B[39m \u001B[38;5;28;43mself\u001B[39;49m\u001B[38;5;241;43m.\u001B[39;49m\u001B[43mcolumns\u001B[49m\u001B[38;5;241;43m.\u001B[39;49m\u001B[43mget_loc\u001B[49m\u001B[43m(\u001B[49m\u001B[43mkey\u001B[49m\u001B[43m)\u001B[49m\n\u001B[1;32m   3808\u001B[0m \u001B[38;5;28;01mif\u001B[39;00m is_integer(indexer):\n\u001B[1;32m   3809\u001B[0m     indexer \u001B[38;5;241m=\u001B[39m [indexer]\n",
      "File \u001B[0;32m~/Mines/3A/Crise/venv/lib/python3.8/site-packages/pandas/core/indexes/base.py:3804\u001B[0m, in \u001B[0;36mIndex.get_loc\u001B[0;34m(self, key, method, tolerance)\u001B[0m\n\u001B[1;32m   3802\u001B[0m     \u001B[38;5;28;01mreturn\u001B[39;00m \u001B[38;5;28mself\u001B[39m\u001B[38;5;241m.\u001B[39m_engine\u001B[38;5;241m.\u001B[39mget_loc(casted_key)\n\u001B[1;32m   3803\u001B[0m \u001B[38;5;28;01mexcept\u001B[39;00m \u001B[38;5;167;01mKeyError\u001B[39;00m \u001B[38;5;28;01mas\u001B[39;00m err:\n\u001B[0;32m-> 3804\u001B[0m     \u001B[38;5;28;01mraise\u001B[39;00m \u001B[38;5;167;01mKeyError\u001B[39;00m(key) \u001B[38;5;28;01mfrom\u001B[39;00m \u001B[38;5;21;01merr\u001B[39;00m\n\u001B[1;32m   3805\u001B[0m \u001B[38;5;28;01mexcept\u001B[39;00m \u001B[38;5;167;01mTypeError\u001B[39;00m:\n\u001B[1;32m   3806\u001B[0m     \u001B[38;5;66;03m# If we have a listlike key, _check_indexing_error will raise\u001B[39;00m\n\u001B[1;32m   3807\u001B[0m     \u001B[38;5;66;03m#  InvalidIndexError. Otherwise we fall through and re-raise\u001B[39;00m\n\u001B[1;32m   3808\u001B[0m     \u001B[38;5;66;03m#  the TypeError.\u001B[39;00m\n\u001B[1;32m   3809\u001B[0m     \u001B[38;5;28mself\u001B[39m\u001B[38;5;241m.\u001B[39m_check_indexing_error(key)\n",
      "\u001B[0;31mKeyError\u001B[0m: 0"
     ]
    }
   ],
   "source": [
    "output_meta = {\n",
    "    'n_timesteps': len(outputs_df.columns[:-2]),\n",
    "    'n_reefs': len(outputs_df['Reef_ID'])\n",
    "}"
   ],
   "metadata": {
    "collapsed": false
   }
  },
  {
   "cell_type": "code",
   "execution_count": 44,
   "outputs": [],
   "source": [
    "lon, lat = outputs_df.LON, outputs_df.LAT"
   ],
   "metadata": {
    "collapsed": false
   }
  },
  {
   "cell_type": "code",
   "execution_count": 29,
   "outputs": [],
   "source": [
    "# build JSON :\n",
    "# root level : a list of length n_timesteps\n",
    "#   level 1 : a list of objects of the form\n",
    "#   {'x': longitude, 'y': latitude, 'label': OUTPUT_NAME, 'value': a float value}\n",
    "json_root = {\n",
    "    'type': 'FeatureCollection',\n",
    "    'crs': {\n",
    "        'type': 'name',\n",
    "        'properties': {\n",
    "            'name': 'urn:ogc:def:crs:OGC:1.3:CRS84'\n",
    "        }\n",
    "    },\n",
    "    'meta': {\n",
    "        'name': OUTPUT_NAME,\n",
    "    }\n",
    "}\n",
    "\n",
    "nyears = len(outputs_df.DHW[0])\n",
    "\n",
    "for t in range(nyears):\n",
    "    t_str = t + 1985\n",
    "    path = JSON_OUT_PATH + f't_{t_str}.geojson'\n",
    "    feature_list = []\n",
    "    for reef in outputs_df.Reef_ID:\n",
    "        feature_list.append({\n",
    "            'type': 'Feature',\n",
    "            'properties': {\n",
    "                'reef_id': reef,\n",
    "                'label': OUTPUT_NAME,\n",
    "                'radius': 1000. * np.random.rand(),\n",
    "                'value': outputs_df.DHW[t],\n",
    "            },\n",
    "            'geometry': {\n",
    "                'type': 'Point',\n",
    "                'coordinates': [lon[reef], lat[reef]]\n",
    "            }\n",
    "        })\n",
    "\n",
    "    json_root['features'] = feature_list\n",
    "    json_root['meta']['time_step'] = t\n",
    "    json_root['meta']['IPCC_scenario'] = 'IPCC_scenario_name'\n",
    "    with open(path, 'w') as out:\n",
    "        json.dump(json_root, out, indent=2)"
   ],
   "metadata": {
    "collapsed": false
   }
  },
  {
   "cell_type": "code",
   "execution_count": null,
   "outputs": [],
   "source": [
    "json_root = {\n",
    "    'type': 'FeatureCollection',\n",
    "    'crs': {\n",
    "        'type': 'name',\n",
    "        'properties': {\n",
    "            'name': 'urn:ogc:def:crs:OGC:1.3:CRS84'\n",
    "        }\n",
    "    },\n",
    "    'meta': {\n",
    "        'name': OUTPUT_NAME,\n",
    "    }\n",
    "}\n",
    "\n",
    "for t in range(output_meta['n_timesteps']):\n",
    "    path = JSON_OUT_PATH + f't_{t}.geojson'\n",
    "    feature_list = []\n",
    "    for reef in range(output_meta['n_reefs']):\n",
    "        feature_list.append({\n",
    "            'type': 'Feature',\n",
    "            'properties': {\n",
    "                'reef_id': reef,\n",
    "                'label': OUTPUT_NAME,\n",
    "                'radius': 1000. * np.random.rand(),\n",
    "                'value': outputs_df[t][reef],\n",
    "            },\n",
    "            'geometry': {\n",
    "                'type': 'Point',\n",
    "                'coordinates': [lat[reef], lon[reef]]\n",
    "            }\n",
    "        })\n",
    "\n",
    "    json_root['features'] = feature_list\n",
    "    json_root['meta']['time_step'] = t\n",
    "    json_root['meta']['IPCC_scenario'] = 'IPCC_scenario_name'\n",
    "    with open(path, 'w') as out:\n",
    "        json.dump(json_root, out, indent=2)"
   ],
   "metadata": {
    "collapsed": false
   }
  },
  {
   "cell_type": "code",
   "execution_count": null,
   "outputs": [],
   "source": [],
   "metadata": {
    "collapsed": false
   }
  }
 ],
 "metadata": {
  "kernelspec": {
   "display_name": "Python 3",
   "language": "python",
   "name": "python3"
  },
  "language_info": {
   "codemirror_mode": {
    "name": "ipython",
    "version": 2
   },
   "file_extension": ".py",
   "mimetype": "text/x-python",
   "name": "python",
   "nbconvert_exporter": "python",
   "pygments_lexer": "ipython2",
   "version": "2.7.6"
  }
 },
 "nbformat": 4,
 "nbformat_minor": 0
}
